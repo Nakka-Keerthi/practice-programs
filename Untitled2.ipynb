{
  "nbformat": 4,
  "nbformat_minor": 0,
  "metadata": {
    "colab": {
      "name": "Untitled2.ipynb",
      "provenance": [],
      "collapsed_sections": []
    },
    "kernelspec": {
      "name": "python3",
      "display_name": "Python 3"
    },
    "language_info": {
      "name": "python"
    }
  },
  "cells": [
    {
      "cell_type": "code",
      "execution_count": null,
      "metadata": {
        "id": "NYyYLOaUQr3X"
      },
      "outputs": [],
      "source": [
        "import pandas as pd\n",
        "df = pd.read_csv(\"lap_times.csv\")\n",
        "pd.isnull(df).any()\n",
        "print(df.shape)\n",
        "df = df.dropna(how='any',axis=0)\n",
        "pd.isnull(df).any()\n",
        "print(df.shape)\n",
        "print(df)"
      ]
    },
    {
      "cell_type": "code",
      "source": [
        "import pandas as pd\n",
        "import numpy as np\n",
        "data = {'one': pandas.Series([1, 2, 5],\n",
        "index=['a', 'b', 'e']),\n",
        "'two': pandas.Series([1, 2, 3, 4],\n",
        "index=['a', 'b', 'c', 'd'])}\n",
        "table = pandas.DataFrame(data)\n",
        "print(\"Before:\\n\",table)\n",
        "print()\n",
        "buff=int(input(\"Enter a buffer value: \"))\n",
        "table['one'] = table['one'].replace(np.nan, buff)\n",
        "table['two'].fillna(buff,inplace = True)\n",
        "print(\"After:\\n\",table)"
      ],
      "metadata": {
        "colab": {
          "base_uri": "https://localhost:8080/"
        },
        "id": "06Dx5yxtcmTB",
        "outputId": "949de2b1-1035-4541-e1dd-9e961fafe094"
      },
      "execution_count": null,
      "outputs": [
        {
          "output_type": "stream",
          "name": "stdout",
          "text": [
            "Before:\n",
            "    one  two\n",
            "a  1.0  1.0\n",
            "b  2.0  2.0\n",
            "c  NaN  3.0\n",
            "d  NaN  4.0\n",
            "e  5.0  NaN\n",
            "\n",
            "Enter a buffer value: 999\n",
            "After:\n",
            "      one    two\n",
            "a    1.0    1.0\n",
            "b    2.0    2.0\n",
            "c  999.0    3.0\n",
            "d  999.0    4.0\n",
            "e    5.0  999.0\n"
          ]
        }
      ]
    }
  ]
}