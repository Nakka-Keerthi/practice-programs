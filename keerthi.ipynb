{
  "nbformat": 4,
  "nbformat_minor": 0,
  "metadata": {
    "colab": {
      "name": "keerthi.ipynb",
      "provenance": [],
      "collapsed_sections": []
    },
    "kernelspec": {
      "name": "python3",
      "display_name": "Python 3"
    },
    "language_info": {
      "name": "python"
    }
  },
  "cells": [
    {
      "cell_type": "code",
      "execution_count": null,
      "metadata": {
        "id": "L1L0vE2WV57C"
      },
      "outputs": [],
      "source": [
        "import pandas as pd"
      ]
    },
    {
      "cell_type": "code",
      "source": [
        "import pandas as pd\n",
        "select_data=pd.read_csv(\"keerthi_data.csv\")\n",
        "select_data.head()\n"
      ],
      "metadata": {
        "colab": {
          "base_uri": "https://localhost:8080/",
          "height": 276
        },
        "id": "ui5QJXfJWKkx",
        "outputId": "2d2e6490-126e-40ec-e98c-1daeb70986dc"
      },
      "execution_count": null,
      "outputs": [
        {
          "output_type": "execute_result",
          "data": {
            "text/html": [
              "<div>\n",
              "<style scoped>\n",
              "    .dataframe tbody tr th:only-of-type {\n",
              "        vertical-align: middle;\n",
              "    }\n",
              "\n",
              "    .dataframe tbody tr th {\n",
              "        vertical-align: top;\n",
              "    }\n",
              "\n",
              "    .dataframe thead th {\n",
              "        text-align: right;\n",
              "    }\n",
              "</style>\n",
              "<table border=\"1\" class=\"dataframe\">\n",
              "  <thead>\n",
              "    <tr style=\"text-align: right;\">\n",
              "      <th></th>\n",
              "      <th>make</th>\n",
              "      <th>peak-rpm</th>\n",
              "      <th>curb-weight</th>\n",
              "      <th>body-style</th>\n",
              "      <th>wheel-base</th>\n",
              "      <th>length</th>\n",
              "      <th>engine-type</th>\n",
              "      <th>num-of-cylinders</th>\n",
              "      <th>horsepower</th>\n",
              "      <th>city-mpg</th>\n",
              "      <th>price</th>\n",
              "    </tr>\n",
              "  </thead>\n",
              "  <tbody>\n",
              "    <tr>\n",
              "      <th>0</th>\n",
              "      <td>alfa-romero</td>\n",
              "      <td>5000</td>\n",
              "      <td>2548</td>\n",
              "      <td>convertible</td>\n",
              "      <td>88.6</td>\n",
              "      <td>168.8</td>\n",
              "      <td>dohc</td>\n",
              "      <td>four</td>\n",
              "      <td>111</td>\n",
              "      <td>21</td>\n",
              "      <td>13495</td>\n",
              "    </tr>\n",
              "    <tr>\n",
              "      <th>1</th>\n",
              "      <td>alfa-romero</td>\n",
              "      <td>5000</td>\n",
              "      <td>2823</td>\n",
              "      <td>convertible</td>\n",
              "      <td>88.6</td>\n",
              "      <td>168.8</td>\n",
              "      <td>dohc</td>\n",
              "      <td>four</td>\n",
              "      <td>111</td>\n",
              "      <td>21</td>\n",
              "      <td>16500</td>\n",
              "    </tr>\n",
              "    <tr>\n",
              "      <th>2</th>\n",
              "      <td>alfa-romero</td>\n",
              "      <td>5500</td>\n",
              "      <td>2337</td>\n",
              "      <td>hatchback</td>\n",
              "      <td>?</td>\n",
              "      <td>171.2</td>\n",
              "      <td>ohcv</td>\n",
              "      <td>six</td>\n",
              "      <td>154</td>\n",
              "      <td>19</td>\n",
              "      <td>16500</td>\n",
              "    </tr>\n",
              "    <tr>\n",
              "      <th>3</th>\n",
              "      <td>audi</td>\n",
              "      <td>?</td>\n",
              "      <td>2824</td>\n",
              "      <td>sedan</td>\n",
              "      <td>99.8</td>\n",
              "      <td>176.6</td>\n",
              "      <td>ohc</td>\n",
              "      <td>four</td>\n",
              "      <td>102</td>\n",
              "      <td>24</td>\n",
              "      <td>13950</td>\n",
              "    </tr>\n",
              "    <tr>\n",
              "      <th>4</th>\n",
              "      <td>audi</td>\n",
              "      <td>5500</td>\n",
              "      <td>2507</td>\n",
              "      <td>sedan</td>\n",
              "      <td>99.4</td>\n",
              "      <td>176.6</td>\n",
              "      <td>ohc</td>\n",
              "      <td>five</td>\n",
              "      <td>115</td>\n",
              "      <td>18</td>\n",
              "      <td>17450</td>\n",
              "    </tr>\n",
              "  </tbody>\n",
              "</table>\n",
              "</div>"
            ],
            "text/plain": [
              "          make peak-rpm curb-weight  ... horsepower city-mpg  price\n",
              "0  alfa-romero     5000        2548  ...        111       21  13495\n",
              "1  alfa-romero     5000        2823  ...        111       21  16500\n",
              "2  alfa-romero     5500        2337  ...        154       19  16500\n",
              "3         audi        ?        2824  ...        102       24  13950\n",
              "4         audi     5500        2507  ...        115       18  17450\n",
              "\n",
              "[5 rows x 11 columns]"
            ]
          },
          "metadata": {},
          "execution_count": 10
        }
      ]
    },
    {
      "cell_type": "code",
      "source": [
        "import numpy as np\n",
        "np.random.seed(seed = 111)\n",
        "random_numbers = list(np.random.random_integers(low = 1,high = 9,size = 3))\n",
        "random_chars = []\n",
        "for i in range(5):\n",
        "  random_chars.append(np.random.choice(np.array(['a','b','c','d','e','f','g','h','i','j','k','l','m','n','o','p','q','r','s','t','u','v','w','x','y','z'])))\n",
        "overall_otp = random_chars + random_numbers\n",
        "#print(overall_otp)\n",
        "final_code = [\"\".join(str(overall_otp[i])) for i in range(len(overall_otp))]  \n",
        "#print(final_code) \n",
        "final_str =''\n",
        "for i in final_code:\n",
        "  final_str = final_str+i\n",
        "final_str"
      ],
      "metadata": {
        "colab": {
          "base_uri": "https://localhost:8080/",
          "height": 73
        },
        "id": "oqiqHnRKZKl_",
        "outputId": "986cec3e-63d0-4292-b179-5d07efb3b448"
      },
      "execution_count": null,
      "outputs": [
        {
          "output_type": "stream",
          "name": "stderr",
          "text": [
            "/usr/local/lib/python3.7/dist-packages/ipykernel_launcher.py:3: DeprecationWarning: This function is deprecated. Please call randint(1, 9 + 1) instead\n",
            "  This is separate from the ipykernel package so we can avoid doing imports until\n"
          ]
        },
        {
          "output_type": "execute_result",
          "data": {
            "application/vnd.google.colaboratory.intrinsic+json": {
              "type": "string"
            },
            "text/plain": [
              "'wtjcw555'"
            ]
          },
          "metadata": {},
          "execution_count": 15
        }
      ]
    },
    {
      "cell_type": "code",
      "source": [
        "import numpy as np\n",
        "np.random.seed(seed = 111)\n",
        "random_numbers = list(np.random.random_integers(low = 1,high = 9,size = 3))\n",
        "np.random.rand(5)"
      ],
      "metadata": {
        "colab": {
          "base_uri": "https://localhost:8080/"
        },
        "id": "TTb5tpYBCjaO",
        "outputId": "6c7b1a3f-e087-4889-f912-c9b06371667a"
      },
      "execution_count": null,
      "outputs": [
        {
          "output_type": "stream",
          "name": "stderr",
          "text": [
            "/usr/local/lib/python3.7/dist-packages/ipykernel_launcher.py:3: DeprecationWarning: This function is deprecated. Please call randint(1, 9 + 1) instead\n",
            "  This is separate from the ipykernel package so we can avoid doing imports until\n"
          ]
        },
        {
          "output_type": "execute_result",
          "data": {
            "text/plain": [
              "array([0.43605902, 0.76926247, 0.2953253 , 0.14916296, 0.02247832])"
            ]
          },
          "metadata": {},
          "execution_count": 2
        }
      ]
    },
    {
      "cell_type": "code",
      "source": [
        "np.random.rand(50)"
      ],
      "metadata": {
        "colab": {
          "base_uri": "https://localhost:8080/"
        },
        "id": "i3-WdX8HrJzn",
        "outputId": "c448ffb4-1fd9-48fa-c92f-72d729abfa2a"
      },
      "execution_count": null,
      "outputs": [
        {
          "output_type": "execute_result",
          "data": {
            "text/plain": [
              "array([0.43605902, 0.76926247, 0.2953253 , 0.14916296, 0.02247832,\n",
              "       0.42022449, 0.23868214, 0.33765619, 0.99071246, 0.23772645,\n",
              "       0.08119266, 0.66960024, 0.62124292, 0.27425353, 0.46622141,\n",
              "       0.11836775, 0.07395756, 0.90077418, 0.79396256, 0.84056965,\n",
              "       0.81520746, 0.99095485, 0.57727383, 0.81376692, 0.42131788,\n",
              "       0.02744796, 0.45413664, 0.10532609, 0.81722006, 0.69772773,\n",
              "       0.5652854 , 0.2742273 , 0.99847374, 0.13804205, 0.61541569,\n",
              "       0.4850363 , 0.40502704, 0.7278491 , 0.32281393, 0.40054555,\n",
              "       0.3189664 , 0.94722183, 0.91870836, 0.81384438, 0.03407709,\n",
              "       0.94337287, 0.95043916, 0.80659105, 0.48127804, 0.96675923])"
            ]
          },
          "metadata": {},
          "execution_count": 17
        }
      ]
    },
    {
      "cell_type": "code",
      "source": [
        "np.random.randint(low=1,high=999,size=5)"
      ],
      "metadata": {
        "colab": {
          "base_uri": "https://localhost:8080/"
        },
        "id": "ntZLvur1rYT4",
        "outputId": "d912dbee-d81e-47a8-a816-b614b93c5c4b"
      },
      "execution_count": null,
      "outputs": [
        {
          "output_type": "execute_result",
          "data": {
            "text/plain": [
              "array([ 43, 681, 429, 378, 178])"
            ]
          },
          "metadata": {},
          "execution_count": 18
        }
      ]
    },
    {
      "cell_type": "code",
      "source": [
        "np.random.random_sample([10])"
      ],
      "metadata": {
        "colab": {
          "base_uri": "https://localhost:8080/"
        },
        "id": "pThQi7yUryH8",
        "outputId": "a9f53539-81b5-44ae-d0a4-0f70f6e4862d"
      },
      "execution_count": null,
      "outputs": [
        {
          "output_type": "execute_result",
          "data": {
            "text/plain": [
              "array([0.62078363, 0.3159007 , 0.26304076, 0.81367862, 0.81581445,\n",
              "       0.59314367, 0.5103815 , 0.37864191, 0.41915008, 0.89485045])"
            ]
          },
          "metadata": {},
          "execution_count": 19
        }
      ]
    },
    {
      "cell_type": "code",
      "source": [
        ""
      ],
      "metadata": {
        "id": "yVEcNDHADNrB"
      },
      "execution_count": null,
      "outputs": []
    }
  ]
}