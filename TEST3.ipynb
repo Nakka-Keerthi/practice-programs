{
  "nbformat": 4,
  "nbformat_minor": 0,
  "metadata": {
    "colab": {
      "name": "TEST3.ipynb",
      "provenance": [],
      "collapsed_sections": []
    },
    "kernelspec": {
      "name": "python3",
      "display_name": "Python 3"
    },
    "language_info": {
      "name": "python"
    }
  },
  "cells": [
    {
      "cell_type": "code",
      "execution_count": null,
      "metadata": {
        "id": "PpNyaQaG5yJm"
      },
      "outputs": [],
      "source": [
        "# Question 9\n",
        "\n",
        "import pandas as pd\n",
        "import numpy as np\n",
        "from src import source\n",
        "\n",
        "def solution():\n",
        "    forecast=pd.read_csv('res/PredictionsFor4April2019.csv')\n",
        "    \n",
        "    forecast.head()\n",
        "    forecast['error'] = ((forecast.PredValue-forecast.ActualValue)**2)\n",
        "    forecast.head()\n",
        "\n",
        "    # RMSE for country DE\n",
        "\n",
        "    RMSE_DE = forecast[forecast.Country_code == 'DE']['error'].mean()**.5\n",
        "    RMSE_DE_round = round(RMSE_DE,1)\n",
        "    RMSE_DE_round\n",
        "\n",
        "    # RMSE for country AT\n",
        "\n",
        "\n",
        "    RMSE_AT = forecast[forecast.Country_code == 'AT']['error'].mean()**.5\n",
        "    RMSE_AT_round = round(RMSE_AT,1)\n",
        "    RMSE_AT_round\n",
        "\n",
        "    # RMSE for country AT\n",
        "\n",
        "\n",
        "    RMSE_PL = forecast[forecast.Country_code == 'PL']['error'].mean()**.5\n",
        "    RMSE_PL_round = round(RMSE_PL,1)\n",
        "    RMSE_PL_round\n",
        "     \n",
        "\n",
        "    list = []\n",
        "    list.append(RMSE_DE_round)\n",
        "    list.append(RMSE_AT_round)\n",
        "    list.append(RMSE_PL_round)\n",
        "    result = list\n",
        "    result.to_csv('output/output.csv', header=False, index=False)\n",
        "      \n",
        "\n",
        "     file = open('./output/output.csv','a+')\n",
        "     file.write(\"questio 9 output\"+\"\\n\")\n",
        "     file.write(str(result)+\"\\n\")\n",
        "     file.close()"
      ]
    },
    {
      "cell_type": "code",
      "source": [
        "# Question 8\n",
        "\n",
        "import pandas as pd\n",
        "import numpy as np\n",
        "import sys\n",
        "sys.path.append('../')\n",
        "\n",
        "def solution():\n",
        "    forecast=pd.read_csv('res/PredictionsFor4April2019.csv')\n",
        "    \n",
        "    forecast.head()\n",
        "    \n",
        "    Total_PredValue = forecast['PredValue'].count()\n",
        "    Total_PredValue\n",
        "    forecast['PredValue'].unique()\n",
        "\n",
        "\n",
        "    forecast['Country_code'].unique()\n",
        "\n",
        "    Sum_DE_PredValues = forecast[forecast.Country_code == 'DE']['PredValue'].count()\n",
        "\n",
        "    Sum_DE_PredValues\n",
        "\n",
        "    Sum_AT_PredValues = forecast[forecast.Country_code == 'AT']['PredValue'].count()\n",
        "\n",
        "    Sum_AT_PredValues\n",
        "\n",
        "    Sum_PL_PredValues = forecast[forecast.Country_code == 'PL']['PredValue'].count()\n",
        "\n",
        "    Sum_PL_PredValues\n",
        "\n",
        "    #1.percentage of identical predicitions for country DE\n",
        "    per_DE_PredValue = (Sum_DE_PredValues/Total_PredValue)*100\n",
        "    \n",
        "    per_DE_PredValue = round(per_DE_PredValue,1)\n",
        "\n",
        "    per_DE_PredValue\n",
        "    #2.percentage of identical predicitions for country AT\n",
        "    per_AT_PredValue = (Sum_AT_PredValues/Total_PredValue)*100\n",
        "    \n",
        "    per_AT_PredValue = round(per_AT_PredValue,1)\n",
        "\n",
        "    per_AT_PredValue\n",
        "\n",
        "   #3.percentage of identical predicitions for country PL\n",
        "    per_PL_PredValue = (Sum_PL_PredValues/Total_PredValue)*100\n",
        "    \n",
        "    per_PL_PredValue = round(per_PL_PredValue,1)\n",
        "\n",
        "    per_PL_PredValue\n",
        "\n",
        "    list = []\n",
        "    list.append(per_DE_PredValue)\n",
        "    list.append(per_AT_PredValue)\n",
        "    list.append(per_PL_PredValue)\n",
        "    result = list\n",
        "    result. to_csv('output/output.csv', header=False, index=False)\n",
        "\n",
        "    file = open('./output/output.csv','a+')\n",
        "    file.write(\"question 8 output\"+\"\\n\")\n",
        "    file,write (str(result)+\"\\n\")\n",
        "    file.close() "
      ],
      "metadata": {
        "id": "vnUhGx-7CyKa"
      },
      "execution_count": null,
      "outputs": []
    },
    {
      "cell_type": "code",
      "source": [
        ""
      ],
      "metadata": {
        "id": "wmxi69fK6OCB"
      },
      "execution_count": null,
      "outputs": []
    }
  ]
}